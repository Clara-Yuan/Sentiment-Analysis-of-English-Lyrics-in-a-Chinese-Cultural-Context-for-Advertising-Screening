{
 "cells": [
  {
   "cell_type": "code",
   "execution_count": 1,
   "id": "f089f848-4900-4cda-bcd4-905ca4f1bade",
   "metadata": {},
   "outputs": [],
   "source": [
    "import pandas as pd\n",
    "import re\n",
    "# from langdetect import detect, DetectorFactory  # 为什么不直接 import langdetect？？？\n",
    "from tqdm import tqdm  # 进度条工具（可选）\n",
    "\n",
    "# 歌词预处理\n",
    "import nltk\n",
    "from nltk.corpus import stopwords # 停用词\n",
    "from nltk.tokenize import word_tokenize # 分词\n",
    "from nltk.stem import PorterStemmer # 词形还原"
   ]
  },
  {
   "cell_type": "code",
   "execution_count": 2,
   "id": "46164898-2d8f-477c-ae7d-168766d2303f",
   "metadata": {},
   "outputs": [],
   "source": [
    "# 读取文件\n",
    "df = pd.read_excel(r\"C:\\Users\\q6483\\Desktop\\Project\\test.xlsx\", engine=\"openpyxl\")"
   ]
  },
  {
   "cell_type": "code",
   "execution_count": 3,
   "id": "9bec6bec-6e7b-496a-8208-ec7d56cd403c",
   "metadata": {},
   "outputs": [],
   "source": [
    "# 下载 NLTK 依赖（首次运行需执行）\n",
    "# nltk.download('punkt')\n",
    "# nltk.download('stopwords')\n",
    "# nltk.download('punkt_tab')"
   ]
  },
  {
   "cell_type": "code",
   "execution_count": 4,
   "id": "5df0c567-410c-4100-a338-68156c102b0c",
   "metadata": {},
   "outputs": [],
   "source": [
    "# 清洗无关信息\n",
    "def clean_lyrics(text):\n",
    "\n",
    "    # 检查变量是否为缺失值（NaN 或 None）\n",
    "    if pd.isna(text):  \n",
    "        return \"\"\n",
    "    \n",
    "    # 1.去除开头 ContributorsTranslation 信息\n",
    "    text = re.sub(r\"^\\d+\\s*Contributors?.*?Lyrics\", \"\", text, flags=re.DOTALL | re.IGNORECASE)\n",
    "\n",
    "    # 2.清洗广告信息（如 \"See Coldplay LiveGet tickets as low as $154You might also like\"）\n",
    "    text = re.sub(\n",
    "        r'(?si)See.*?tickets as low as \\$\\d+.*?You might also like',  # 匹配广告模式\n",
    "        '',  # 替换为空字符串\n",
    "        text)\n",
    "\n",
    "    text = re.sub(\n",
    "        r'(?im)^\\s*You might also like\\s*$',\n",
    "        '',\n",
    "        text)\n",
    "\n",
    "    # 3.去除歌词结构标记（[Chorus]，1 ContributorWild ones (flo rida feat. sia remake) Lyrics）\n",
    "    text = re.sub(r\"\\[.*?\\]|\\(.*?\\)\", \"\", text)\n",
    "\n",
    "    # 4.去除嵌入信息\n",
    "    text = re.sub(r\"\\d+Embed\", \"\", text)\n",
    "\n",
    "    # 5.去除多余空行和空格\n",
    "    text = \"\\n\".join([line.strip() for line in text.splitlines() if line.strip()])\n",
    "\n",
    "\n",
    "# 预处理\n",
    "    \n",
    "    # 全局替换 in' → ing\n",
    "    #text = re.sub(r\"in'\", \"ing\", text, flags=re.IGNORECASE)\n",
    "\n",
    "    # 将 连字符 替换为 空格\n",
    "    #text = re.sub(r\"-\", \" \", text)\n",
    "    \n",
    "    # 转换为小写\n",
    "    #text = text.lower()\n",
    "    \n",
    "    \n",
    "    return text"
   ]
  },
  {
   "cell_type": "markdown",
   "id": "2816ebeb-4b81-4c2c-b82b-43d034d9ac76",
   "metadata": {},
   "source": [
    "re：\n",
    "re.sub()匹配所有并替换，返回新字符串\n",
    "flags=re.DOTALL 处理多行文本\n",
    "flags=re.IGNORECASE 不区分大小写"
   ]
  },
  {
   "cell_type": "markdown",
   "id": "e125043e-145d-4264-adcd-40ced8d22fa6",
   "metadata": {},
   "source": [
    "^\\d+   数字开头行\n",
    "\n",
    "\\s*    零个/多个空格\n",
    "\n",
    "Contributors?  s?表示s可选\n",
    "\n",
    "\\b     单词边界，确保匹配完整的 “Contributor” \n",
    "\n",
    ".*?    匹配任意字符（直到遇到 Lyrics）\n",
    "\n",
    "Lyrics 匹配结尾的 Lyrics"
   ]
  },
  {
   "cell_type": "markdown",
   "id": "14693c38-7807-422a-a652-a49e5fe431df",
   "metadata": {},
   "source": [
    "如果不处理缺失值，可能会导致以下问题：\n",
    "\n",
    "程序崩溃：某些操作（如字符串操作）无法处理 NaN 或 None。\n",
    "\n",
    "数据不一致：缺失值可能导致后续分析或清洗逻辑出错。\n",
    "\n",
    "AttributeError: 'NoneType' object has no attribute 'strip'"
   ]
  },
  {
   "cell_type": "code",
   "execution_count": 8,
   "id": "3b0fe764-d581-4818-8f4c-884a81a164ac",
   "metadata": {},
   "outputs": [],
   "source": [
    "# 歌词处理\n",
    "def process_lyrics(input_file, output_file):\n",
    "    \n",
    "    # 清洗歌词\n",
    "    tqdm.pandas(desc=\"Cleaning Lyrics\")  #\n",
    "    df[\"lyrics\"] = df[\"lyrics\"].progress_apply(clean_lyrics) # .apply(): pandas的方法，对 DataFrame 的某一列（或行）应用一个函数\n",
    "                                                             # .progress_apply(): tqdm库 进度条功能\n",
    "    \n",
    "    # 保存结果（注意：tokens 列在 Excel 中会显示为字符串列表）\n",
    "    df.to_excel(output_file, index=False)\n",
    "    \n",
    "    print(f\"清洗完成，结果已保存至{output_file}\")"
   ]
  },
  {
   "cell_type": "code",
   "execution_count": 9,
   "id": "206ff408-d402-49f6-b81b-50e5c50ce303",
   "metadata": {},
   "outputs": [
    {
     "name": "stderr",
     "output_type": "stream",
     "text": [
      "Cleaning Lyrics: 100%|█████████████████████████████████████████████████████████████| 594/594 [00:00<00:00, 1406.65it/s]\n"
     ]
    },
    {
     "name": "stdout",
     "output_type": "stream",
     "text": [
      "清洗完成，结果已保存至C:\\Users\\q6483\\Desktop\\Project\\test1.xlsx\n"
     ]
    }
   ],
   "source": [
    "input_file = r\"C:\\Users\\q6483\\Desktop\\Project\\test.xlsx\"\n",
    "output_file = r\"C:\\Users\\q6483\\Desktop\\Project\\test1.xlsx\"\n",
    "\n",
    "# 运行函数\n",
    "process_lyrics(input_file, output_file)"
   ]
  },
  {
   "cell_type": "code",
   "execution_count": null,
   "id": "7f673a78-d40c-417a-b4e0-cbb3b516484a",
   "metadata": {},
   "outputs": [],
   "source": []
  }
 ],
 "metadata": {
  "kernelspec": {
   "display_name": "Python [conda env:base] *",
   "language": "python",
   "name": "conda-base-py"
  },
  "language_info": {
   "codemirror_mode": {
    "name": "ipython",
    "version": 3
   },
   "file_extension": ".py",
   "mimetype": "text/x-python",
   "name": "python",
   "nbconvert_exporter": "python",
   "pygments_lexer": "ipython3",
   "version": "3.12.4"
  }
 },
 "nbformat": 4,
 "nbformat_minor": 5
}
